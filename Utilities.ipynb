{
 "cells": [
  {
   "attachments": {},
   "cell_type": "markdown",
   "metadata": {},
   "source": [
    "# Generando Codigo QR\n",
    "Se instalan paquetes y definición de una función que reciba una URL y retorne el cógido QR."
   ]
  },
  {
   "cell_type": "code",
   "execution_count": null,
   "metadata": {},
   "outputs": [],
   "source": [
    "!pip install segno\n",
    "import segno\n",
    "\n",
    "def create_qr_code(name, data):\n",
    "    qr_code = segno.make_qr(data)\n",
    "    qr_code.save(\n",
    "        name+\".png\",\n",
    "        scale=10, \n",
    "        border=1,\n",
    "        light=\"#0C356A\",\n",
    "        dark=\"#CDF5FD\",\n",
    "    )"
   ]
  },
  {
   "attachments": {},
   "cell_type": "markdown",
   "metadata": {},
   "source": [
    "Se define una lista de links para usar, se invoca la función y se guarda imagen por imagen"
   ]
  },
  {
   "cell_type": "code",
   "execution_count": null,
   "metadata": {},
   "outputs": [],
   "source": [
    "codes = {\n",
    "    'humane_ai_pin_tedtalk': \"https://www.youtube.com/watch?v=gMsQO5u7-NQ\",\n",
    "    'linkedin_profile': \"https://www.linkedin.com/in/casierrav/\",\n",
    "    'github_repository': \"https://github.com/EngAndres/talk_ai_udfjc_fourth-international-congress\",\n",
    "    'cybersecurity_report_2023': \"https://www.checkpoint.com/downloads/resources/2023-mid-year-cyber-security-report.pdf?utm_source=www.dailyzaps.com&utm_medium=newsletter&utm_campaign=how-hackers-are-using-chatgpt\"\n",
    "}\n",
    "\n",
    "for code_name, code_url in codes.items():\n",
    "    create_qr_code(code_name, code_url)"
   ]
  },
  {
   "attachments": {},
   "cell_type": "markdown",
   "metadata": {},
   "source": [
    "# Denerando imagenes para la presentación\n",
    "Se conecta a la API de GPT para usar el generador de imágenes Dall-e."
   ]
  },
  {
   "cell_type": "code",
   "execution_count": 4,
   "metadata": {},
   "outputs": [],
   "source": [
    "# Connect with GPT\n",
    "from openai import OpenAI\n",
    "\n",
    "# API Key obtenida en el sitio web\n",
    "api_key = ' '\n",
    "gpt_client = OpenAI(api_key=api_key)\n",
    "\n",
    "# se crea una función que recine la solicitud de imagen, el modelo Dall-E a utilizar, y retorna la URL de la imagen generada por la API\n",
    "def get_dalle_answer(request, model):\n",
    "  response = gpt_client.images.generate(\n",
    "    model=model,\n",
    "    prompt=request,\n",
    "    size=\"1024x1024\",\n",
    "    quality=\"standard\",\n",
    "    n=1,\n",
    "  )\n",
    "  # se extrae la URL de la imagen de la respuesta de la API\n",
    "  image_url = response.data[0].url\n",
    "  return image_url"
   ]
  },
  {
   "attachments": {},
   "cell_type": "markdown",
   "metadata": {},
   "source": [
    "Se define un conjunto de imágenes y se procede a generarlas."
   ]
  },
  {
   "cell_type": "code",
   "execution_count": null,
   "metadata": {},
   "outputs": [],
   "source": [
    "!pip install wget\n",
    "\n",
    "# librería para descargar archivos de internet\n",
    "import wget\n",
    "\n",
    "# se define el modelo de Dall-e a utilizar\n",
    "dalle_model = \"dall-e-3\"\n",
    "\n",
    "talks_images = {\n",
    "    'ia_money': \"una IA antropomorfizada con mucho dinero\",\n",
    "    'robot_accident': \"robot humanoide con un brazp roto\",\n",
    "    'chatbot': \"call center de robots humaniodes asistentes\",\n",
    "    'goldman': \"goldman sachs antropomofizado escribiendo un guion de cine\",\n",
    "    'united_nations': \"robot humanoide con uniforme de naciones unidas\",\n",
    "    'joe_biden_ia': \"caricatura de Joe Biden asustado y en la mano un qr al sitio https://ai.gov/\",\n",
    "    'joe_biden_orden': \"caricatura de Joe Biden asustado firmando un documento\",\n",
    "    'terminator': \"robot de terminator en camisa de fuerza\",\n",
    "    'google_cloud': \"logo de google vestido con bata de médico\",\n",
    "    'eleven': \"robot humanoide tomando con la palabra cerveza en varios idiomas\"\n",
    "}\n",
    "\n",
    "# iterativamente se generan las imágenes y se descargan de acuerdo a la URL\n",
    "for name, request in talks_images.items():\n",
    "    image_url = get_dalle_answer(request, dalle_model)\n",
    "    wget.download(image_url, name+'.png')"
   ]
  }
 ],
 "metadata": {
  "kernelspec": {
   "display_name": "pybog",
   "language": "python",
   "name": "python3"
  },
  "language_info": {
   "codemirror_mode": {
    "name": "ipython",
    "version": 3
   },
   "file_extension": ".py",
   "mimetype": "text/x-python",
   "name": "python",
   "nbconvert_exporter": "python",
   "pygments_lexer": "ipython3",
   "version": "3.10.6"
  },
  "orig_nbformat": 4
 },
 "nbformat": 4,
 "nbformat_minor": 2
}
